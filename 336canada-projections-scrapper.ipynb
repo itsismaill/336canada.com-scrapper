{
  "nbformat": 4,
  "nbformat_minor": 0,
  "metadata": {
    "colab": {
      "provenance": []
    },
    "kernelspec": {
      "name": "python3",
      "display_name": "Python 3"
    },
    "language_info": {
      "name": "python"
    }
  },
  "cells": [
    {
      "cell_type": "code",
      "execution_count": 50,
      "metadata": {
        "id": "UMj3zGvGYVte"
      },
      "outputs": [],
      "source": [
        "import requests\n",
        "from bs4 import BeautifulSoup\n",
        "import time\n",
        "import lxml.etree as ET\n",
        "import csv\n",
        "import pandas as pd\n",
        "from datetime import datetime"
      ]
    },
    {
      "cell_type": "code",
      "source": [
        "# Uncomment and run once. Don't need to if you already have selenium.\n",
        "# !pip install selenium\n",
        "# !apt-get update\n",
        "# !apt install chromium-chromedriver"
      ],
      "metadata": {
        "id": "ejz4rRlQwh3l"
      },
      "execution_count": null,
      "outputs": []
    },
    {
      "cell_type": "code",
      "source": [
        "from selenium import webdriver\n",
        "\n",
        "def driversetup():\n",
        "    options = webdriver.ChromeOptions()\n",
        "    #run Selenium in headless mode\n",
        "    options.add_argument('--headless')\n",
        "    options.add_argument('--no-sandbox')\n",
        "    #overcome limited resource problems\n",
        "    options.add_argument('--disable-dev-shm-usage')\n",
        "    options.add_argument(\"lang=en\")\n",
        "    #open Browser in maximized mode\n",
        "    options.add_argument(\"start-maximized\")\n",
        "    #disable infobars\n",
        "    options.add_argument(\"disable-infobars\")\n",
        "    #disable extension\n",
        "    options.add_argument(\"--disable-extensions\")\n",
        "    options.add_argument(\"--incognito\")\n",
        "    options.add_argument(\"--disable-blink-features=AutomationControlled\")\n",
        "\n",
        "    driver = webdriver.Chrome(options=options)\n",
        "\n",
        "    driver.execute_script(\"Object.defineProperty(navigator, 'webdriver', {get: () => undefined});\")\n",
        "\n",
        "    return driver\n",
        "driver = driversetup()"
      ],
      "metadata": {
        "id": "oj_FtesArooC"
      },
      "execution_count": 61,
      "outputs": []
    },
    {
      "cell_type": "code",
      "source": [
        "# URL of the page containing the table\n",
        "url = 'https://338canada.com/districts.htm'\n",
        "\n",
        "# Fetch the page\n",
        "response = requests.get(url)\n",
        "html_content = response.content\n",
        "\n",
        "# Parse the HTML\n",
        "soup = BeautifulSoup(html_content, 'html.parser')\n",
        "\n",
        "# Initialize a list to store links\n",
        "links = []\n",
        "\n",
        "# Loop through each row in the table to find and store all links\n",
        "for row in soup.find_all('tr'):\n",
        "    a_tag = row.find('td', align='left').find('a', href=True) if row.find('td', align='left') else None\n",
        "    if a_tag and a_tag.has_attr('href'):\n",
        "        links.append(a_tag['href'].strip())\n",
        "\n",
        "# Determine how many links you want to process, e.g., first 5 links\n",
        "n = 339"
      ],
      "metadata": {
        "id": "zRYE5nhxYbNk"
      },
      "execution_count": 52,
      "outputs": []
    },
    {
      "cell_type": "code",
      "source": [
        "# Initialize lists to store SVG contents and district numbers\n",
        "svg_contents = []\n",
        "district_numbers = []"
      ],
      "metadata": {
        "id": "yP-nkXUSYojx",
        "colab": {
          "base_uri": "https://localhost:8080/"
        },
        "outputId": "c487708b-6177-44d1-c9c6-549436f305bd"
      },
      "execution_count": 53,
      "outputs": [
        {
          "output_type": "stream",
          "name": "stdout",
          "text": [
            "['https://338canada.com/10001e.htm', 'https://338canada.com/10002e.htm', 'https://338canada.com/10003e.htm', 'https://338canada.com/10004e.htm', 'https://338canada.com/10005e.htm', 'https://338canada.com/10006e.htm', 'https://338canada.com/10007e.htm', 'https://338canada.com/11001e.htm', 'https://338canada.com/11002e.htm', 'https://338canada.com/11003e.htm', 'https://338canada.com/11004e.htm', 'https://338canada.com/12001e.htm', 'https://338canada.com/12002e.htm', 'https://338canada.com/12003e.htm', 'https://338canada.com/12004e.htm', 'https://338canada.com/12005e.htm', 'https://338canada.com/12006e.htm', 'https://338canada.com/12007e.htm', 'https://338canada.com/12008e.htm', 'https://338canada.com/12009e.htm', 'https://338canada.com/12010e.htm', 'https://338canada.com/12011e.htm', 'https://338canada.com/13001e.htm', 'https://338canada.com/13002e.htm', 'https://338canada.com/13003e.htm', 'https://338canada.com/13004e.htm', 'https://338canada.com/13005e.htm', 'https://338canada.com/13006e.htm', 'https://338canada.com/13007e.htm', 'https://338canada.com/13008e.htm', 'https://338canada.com/13009e.htm', 'https://338canada.com/13010e.htm', 'https://338canada.com/24001e.htm', 'https://338canada.com/24002e.htm', 'https://338canada.com/24003e.htm', 'https://338canada.com/24004e.htm', 'https://338canada.com/24005e.htm', 'https://338canada.com/24006e.htm', 'https://338canada.com/24007e.htm', 'https://338canada.com/24008e.htm', 'https://338canada.com/24009e.htm', 'https://338canada.com/24010e.htm', 'https://338canada.com/24011e.htm', 'https://338canada.com/24012e.htm', 'https://338canada.com/24013e.htm', 'https://338canada.com/24014e.htm', 'https://338canada.com/24015e.htm', 'https://338canada.com/24016e.htm', 'https://338canada.com/24017e.htm', 'https://338canada.com/24018e.htm', 'https://338canada.com/24019e.htm', 'https://338canada.com/24020e.htm', 'https://338canada.com/24021e.htm', 'https://338canada.com/24022e.htm', 'https://338canada.com/24023e.htm', 'https://338canada.com/24024e.htm', 'https://338canada.com/24025e.htm', 'https://338canada.com/24026e.htm', 'https://338canada.com/24027e.htm', 'https://338canada.com/24028e.htm', 'https://338canada.com/24029e.htm', 'https://338canada.com/24030e.htm', 'https://338canada.com/24031e.htm', 'https://338canada.com/24032e.htm', 'https://338canada.com/24033e.htm', 'https://338canada.com/24034e.htm', 'https://338canada.com/24035e.htm', 'https://338canada.com/24036e.htm', 'https://338canada.com/24037e.htm', 'https://338canada.com/24038e.htm', 'https://338canada.com/24039e.htm', 'https://338canada.com/24040e.htm', 'https://338canada.com/24041e.htm', 'https://338canada.com/24042e.htm', 'https://338canada.com/24043e.htm', 'https://338canada.com/24044e.htm', 'https://338canada.com/24045e.htm', 'https://338canada.com/24046e.htm', 'https://338canada.com/24047e.htm', 'https://338canada.com/24048e.htm', 'https://338canada.com/24049e.htm', 'https://338canada.com/24050e.htm', 'https://338canada.com/24051e.htm', 'https://338canada.com/24052e.htm', 'https://338canada.com/24053e.htm', 'https://338canada.com/24054e.htm', 'https://338canada.com/24055e.htm', 'https://338canada.com/24056e.htm', 'https://338canada.com/24057e.htm', 'https://338canada.com/24058e.htm', 'https://338canada.com/24059e.htm', 'https://338canada.com/24060e.htm', 'https://338canada.com/24061e.htm', 'https://338canada.com/24062e.htm', 'https://338canada.com/24063e.htm', 'https://338canada.com/24064e.htm', 'https://338canada.com/24065e.htm', 'https://338canada.com/24066e.htm', 'https://338canada.com/24067e.htm', 'https://338canada.com/24068e.htm', 'https://338canada.com/24069e.htm', 'https://338canada.com/24070e.htm', 'https://338canada.com/24071e.htm', 'https://338canada.com/24072e.htm', 'https://338canada.com/24073e.htm', 'https://338canada.com/24074e.htm', 'https://338canada.com/24075e.htm', 'https://338canada.com/24076e.htm', 'https://338canada.com/24077e.htm', 'https://338canada.com/24078e.htm', 'https://338canada.com/35001e.htm', 'https://338canada.com/35002e.htm', 'https://338canada.com/35003e.htm', 'https://338canada.com/35004e.htm', 'https://338canada.com/35005e.htm', 'https://338canada.com/35006e.htm', 'https://338canada.com/35007e.htm', 'https://338canada.com/35008e.htm', 'https://338canada.com/35009e.htm', 'https://338canada.com/35010e.htm', 'https://338canada.com/35011e.htm', 'https://338canada.com/35012e.htm', 'https://338canada.com/35013e.htm', 'https://338canada.com/35014e.htm', 'https://338canada.com/35015e.htm', 'https://338canada.com/35016e.htm', 'https://338canada.com/35017e.htm', 'https://338canada.com/35018e.htm', 'https://338canada.com/35019e.htm', 'https://338canada.com/35020e.htm', 'https://338canada.com/35021e.htm', 'https://338canada.com/35022e.htm', 'https://338canada.com/35023e.htm', 'https://338canada.com/35024e.htm', 'https://338canada.com/35025e.htm', 'https://338canada.com/35026e.htm', 'https://338canada.com/35027e.htm', 'https://338canada.com/35028e.htm', 'https://338canada.com/35029e.htm', 'https://338canada.com/35030e.htm', 'https://338canada.com/35031e.htm', 'https://338canada.com/35032e.htm', 'https://338canada.com/35033e.htm', 'https://338canada.com/35034e.htm', 'https://338canada.com/35035e.htm', 'https://338canada.com/35036e.htm', 'https://338canada.com/35037e.htm', 'https://338canada.com/35038e.htm', 'https://338canada.com/35039e.htm', 'https://338canada.com/35040e.htm', 'https://338canada.com/35041e.htm', 'https://338canada.com/35042e.htm', 'https://338canada.com/35043e.htm', 'https://338canada.com/35044e.htm', 'https://338canada.com/35045e.htm', 'https://338canada.com/35046e.htm', 'https://338canada.com/35047e.htm', 'https://338canada.com/35048e.htm', 'https://338canada.com/35049e.htm', 'https://338canada.com/35050e.htm', 'https://338canada.com/35051e.htm', 'https://338canada.com/35052e.htm', 'https://338canada.com/35053e.htm', 'https://338canada.com/35054e.htm', 'https://338canada.com/35055e.htm', 'https://338canada.com/35056e.htm', 'https://338canada.com/35057e.htm', 'https://338canada.com/35058e.htm', 'https://338canada.com/35059e.htm', 'https://338canada.com/35060e.htm', 'https://338canada.com/35061e.htm', 'https://338canada.com/35062e.htm', 'https://338canada.com/35063e.htm', 'https://338canada.com/35064e.htm', 'https://338canada.com/35065e.htm', 'https://338canada.com/35066e.htm', 'https://338canada.com/35067e.htm', 'https://338canada.com/35068e.htm', 'https://338canada.com/35069e.htm', 'https://338canada.com/35070e.htm', 'https://338canada.com/35071e.htm', 'https://338canada.com/35072e.htm', 'https://338canada.com/35073e.htm', 'https://338canada.com/35074e.htm', 'https://338canada.com/35075e.htm', 'https://338canada.com/35076e.htm', 'https://338canada.com/35077e.htm', 'https://338canada.com/35078e.htm', 'https://338canada.com/35079e.htm', 'https://338canada.com/35080e.htm', 'https://338canada.com/35081e.htm', 'https://338canada.com/35082e.htm', 'https://338canada.com/35083e.htm', 'https://338canada.com/35084e.htm', 'https://338canada.com/35085e.htm', 'https://338canada.com/35086e.htm', 'https://338canada.com/35087e.htm', 'https://338canada.com/35088e.htm', 'https://338canada.com/35089e.htm', 'https://338canada.com/35090e.htm', 'https://338canada.com/35091e.htm', 'https://338canada.com/35092e.htm', 'https://338canada.com/35093e.htm', 'https://338canada.com/35094e.htm', 'https://338canada.com/35095e.htm', 'https://338canada.com/35096e.htm', 'https://338canada.com/35097e.htm', 'https://338canada.com/35098e.htm', 'https://338canada.com/35099e.htm', 'https://338canada.com/35100e.htm', 'https://338canada.com/35101e.htm', 'https://338canada.com/35102e.htm', 'https://338canada.com/35103e.htm', 'https://338canada.com/35104e.htm', 'https://338canada.com/35105e.htm', 'https://338canada.com/35106e.htm', 'https://338canada.com/35107e.htm', 'https://338canada.com/35108e.htm', 'https://338canada.com/35109e.htm', 'https://338canada.com/35110e.htm', 'https://338canada.com/35111e.htm', 'https://338canada.com/35112e.htm', 'https://338canada.com/35113e.htm', 'https://338canada.com/35114e.htm', 'https://338canada.com/35115e.htm', 'https://338canada.com/35116e.htm', 'https://338canada.com/35117e.htm', 'https://338canada.com/35118e.htm', 'https://338canada.com/35119e.htm', 'https://338canada.com/35120e.htm', 'https://338canada.com/35121e.htm', 'https://338canada.com/46001e.htm', 'https://338canada.com/46002e.htm', 'https://338canada.com/46003e.htm', 'https://338canada.com/46004e.htm', 'https://338canada.com/46005e.htm', 'https://338canada.com/46006e.htm', 'https://338canada.com/46007e.htm', 'https://338canada.com/46008e.htm', 'https://338canada.com/46009e.htm', 'https://338canada.com/46010e.htm', 'https://338canada.com/46011e.htm', 'https://338canada.com/46012e.htm', 'https://338canada.com/46013e.htm', 'https://338canada.com/46014e.htm', 'https://338canada.com/47001e.htm', 'https://338canada.com/47002e.htm', 'https://338canada.com/47003e.htm', 'https://338canada.com/47004e.htm', 'https://338canada.com/47005e.htm', 'https://338canada.com/47006e.htm', 'https://338canada.com/47007e.htm', 'https://338canada.com/47008e.htm', 'https://338canada.com/47009e.htm', 'https://338canada.com/47010e.htm', 'https://338canada.com/47011e.htm', 'https://338canada.com/47012e.htm', 'https://338canada.com/47013e.htm', 'https://338canada.com/47014e.htm', 'https://338canada.com/48001e.htm', 'https://338canada.com/48002e.htm', 'https://338canada.com/48003e.htm', 'https://338canada.com/48004e.htm', 'https://338canada.com/48005e.htm', 'https://338canada.com/48006e.htm', 'https://338canada.com/48007e.htm', 'https://338canada.com/48008e.htm', 'https://338canada.com/48009e.htm', 'https://338canada.com/48010e.htm', 'https://338canada.com/48011e.htm', 'https://338canada.com/48012e.htm', 'https://338canada.com/48013e.htm', 'https://338canada.com/48014e.htm', 'https://338canada.com/48015e.htm', 'https://338canada.com/48016e.htm', 'https://338canada.com/48017e.htm', 'https://338canada.com/48018e.htm', 'https://338canada.com/48019e.htm', 'https://338canada.com/48020e.htm', 'https://338canada.com/48021e.htm', 'https://338canada.com/48022e.htm', 'https://338canada.com/48023e.htm', 'https://338canada.com/48024e.htm', 'https://338canada.com/48025e.htm', 'https://338canada.com/48026e.htm', 'https://338canada.com/48027e.htm', 'https://338canada.com/48028e.htm', 'https://338canada.com/48029e.htm', 'https://338canada.com/48030e.htm', 'https://338canada.com/48031e.htm', 'https://338canada.com/48032e.htm', 'https://338canada.com/48033e.htm', 'https://338canada.com/48034e.htm', 'https://338canada.com/59001e.htm', 'https://338canada.com/59002e.htm', 'https://338canada.com/59003e.htm', 'https://338canada.com/59004e.htm', 'https://338canada.com/59005e.htm', 'https://338canada.com/59006e.htm', 'https://338canada.com/59007e.htm', 'https://338canada.com/59008e.htm', 'https://338canada.com/59009e.htm', 'https://338canada.com/59010e.htm', 'https://338canada.com/59011e.htm', 'https://338canada.com/59012e.htm', 'https://338canada.com/59013e.htm', 'https://338canada.com/59014e.htm', 'https://338canada.com/59015e.htm', 'https://338canada.com/59016e.htm', 'https://338canada.com/59017e.htm', 'https://338canada.com/59018e.htm', 'https://338canada.com/59019e.htm', 'https://338canada.com/59020e.htm', 'https://338canada.com/59021e.htm', 'https://338canada.com/59022e.htm', 'https://338canada.com/59023e.htm', 'https://338canada.com/59024e.htm', 'https://338canada.com/59025e.htm', 'https://338canada.com/59026e.htm', 'https://338canada.com/59027e.htm', 'https://338canada.com/59028e.htm', 'https://338canada.com/59029e.htm', 'https://338canada.com/59030e.htm', 'https://338canada.com/59031e.htm', 'https://338canada.com/59032e.htm', 'https://338canada.com/59033e.htm', 'https://338canada.com/59034e.htm', 'https://338canada.com/59035e.htm', 'https://338canada.com/59036e.htm', 'https://338canada.com/59037e.htm', 'https://338canada.com/59038e.htm', 'https://338canada.com/59039e.htm', 'https://338canada.com/59040e.htm', 'https://338canada.com/59041e.htm', 'https://338canada.com/59042e.htm', 'https://338canada.com/60001e.htm', 'https://338canada.com/61001e.htm', 'https://338canada.com/62001e.htm']\n"
          ]
        }
      ]
    },
    {
      "cell_type": "code",
      "source": [
        "# Process only the first n links\n",
        "for index, link in enumerate(links[:n]):\n",
        "    response = requests.get(link)\n",
        "    soup = BeautifulSoup(response.content, 'html.parser')\n",
        "\n",
        "    # Construct SVG ID for each link based on its index\n",
        "    svg_id = f'ridinghisto-{index}'\n",
        "    svg_element = soup.find('svg', id=svg_id)\n",
        "\n",
        "    # Save the SVG's XML content as a string in the list\n",
        "    if str(svg_element) == \"None\":\n",
        "      print(link)\n",
        "      driver.get(link)\n",
        "      soup = BeautifulSoup(driver.page_source, 'html.parser')\n",
        "      svg_element = soup.find('svg', id=svg_id)\n",
        "\n",
        "    svg_contents.append(str(svg_element))\n"
      ],
      "metadata": {
        "id": "6R0wAsHPdo0Q",
        "colab": {
          "base_uri": "https://localhost:8080/"
        },
        "outputId": "15326899-3b81-4b9b-b183-fb291dceff2b"
      },
      "execution_count": 62,
      "outputs": [
        {
          "output_type": "stream",
          "name": "stdout",
          "text": [
            "https://338canada.com/24068e.htm\n"
          ]
        }
      ]
    },
    {
      "cell_type": "code",
      "source": [
        "for index, link in enumerate(links[:n]):\n",
        "    # Extract district number from the link, removing the 'e.htm' part\n",
        "    district_number = link.split('/')[-1].replace('e.htm', '')\n",
        "\n",
        "    district_numbers.append(district_number)\n"
      ],
      "metadata": {
        "id": "WmB7blQWdrWQ"
      },
      "execution_count": 64,
      "outputs": []
    },
    {
      "cell_type": "code",
      "source": [
        "# Combine all SVG contents into one string, separated by newlines\n",
        "combined_svg_contents = \"\\n\".join(svg_contents)\n",
        "filename = \"all_svgs_combined.txt\"\n",
        "with open(filename, 'w') as file:\n",
        "    file.write(combined_svg_contents)\n",
        "print(f\"All SVG contents have been saved to {filename}.\")"
      ],
      "metadata": {
        "colab": {
          "base_uri": "https://localhost:8080/"
        },
        "id": "-OOtarhAZ-oh",
        "outputId": "06bcbb0b-1049-4b76-c21d-3bc849f6fc28"
      },
      "execution_count": 65,
      "outputs": [
        {
          "output_type": "stream",
          "name": "stdout",
          "text": [
            "All SVG contents have been saved to all_svgs_combined.txt.\n"
          ]
        }
      ]
    },
    {
      "cell_type": "code",
      "source": [
        "color_to_party = {\n",
        "    '#d90000': 'LPC',\n",
        "    '#0202ff': 'CPC',\n",
        "    '#E17C0D': 'NDP',\n",
        "    '#551A8B': 'PPC',\n",
        "    '#269b26': 'GPC',\n",
        "    '#12bbff': 'BQ',\n",
        "    '#606060': 'IND',\n",
        "    '#84BD00': 'MAV',\n",
        "}\n",
        "\n",
        "def extract_projections_with_party_names_and_split(svg_content):\n",
        "    soup = BeautifulSoup(svg_content, 'html.parser')\n",
        "    all_projections = []\n",
        "\n",
        "    svg_elements = soup.find_all('svg')\n",
        "    for svg in svg_elements:\n",
        "        proj_data = {}\n",
        "\n",
        "        text_elements = svg.find_all('text')\n",
        "        for element in text_elements:\n",
        "            if \"±\" in element.text and element.get('x') == \"307.2\":\n",
        "                color = element['fill']\n",
        "\n",
        "                text_parts = element.text.strip().split(\"±\")\n",
        "                percentage = text_parts[0].strip().rstrip('%')\n",
        "                margin = text_parts[1].strip().rstrip('%')\n",
        "\n",
        "                party_name = color_to_party.get(color, \"Unknown\")\n",
        "\n",
        "                proj_data[f'{party_name} %'] = percentage\n",
        "                proj_data[f'{party_name} Margin'] = margin\n",
        "\n",
        "        all_projections.append(proj_data)\n",
        "\n",
        "    return all_projections\n",
        "\n",
        "# Read SVG contents from 'all_svgs_combined.txt'\n",
        "with open('all_svgs_combined.txt', 'r') as file:\n",
        "    svg_content = file.read()\n",
        "\n",
        "# Extract projection data using the read SVG content\n",
        "projection_data = extract_projections_with_party_names_and_split(svg_content)"
      ],
      "metadata": {
        "id": "pMUP3zG8Z_TO"
      },
      "execution_count": 66,
      "outputs": []
    },
    {
      "cell_type": "code",
      "source": [
        "# Convert the list of dictionaries into a pandas DataFrame\n",
        "df = pd.DataFrame(projection_data)\n",
        "df['District Number'] = pd.Series(district_numbers)\n",
        "columns = ['District Number'] + [col for col in df.columns if col != 'District Number']\n",
        "df = df[columns]\n",
        "\n",
        "today_date = datetime.now().strftime(\"%Y-%m-%d\")\n",
        "excel_filename = f\"projection_data_{today_date}.xlsx\"\n",
        "csv_filename = f\"projection_data_{today_date}.csv\"\n",
        "\n",
        "df.to_excel(excel_filename, index=False)\n",
        "df.to_csv(csv_filename, index=False)\n",
        "\n",
        "print(\"Data has been saved to 'projection_data.xlsx' and 'projection_data.csv'.\")"
      ],
      "metadata": {
        "colab": {
          "base_uri": "https://localhost:8080/"
        },
        "id": "rCabZsZSaGBt",
        "outputId": "7cadcf94-eb45-4c20-b9dc-a16ea9bf3359"
      },
      "execution_count": 67,
      "outputs": [
        {
          "output_type": "stream",
          "name": "stdout",
          "text": [
            "Data has been saved to 'projection_data.xlsx' and 'projection_data.csv'.\n"
          ]
        }
      ]
    }
  ]
}